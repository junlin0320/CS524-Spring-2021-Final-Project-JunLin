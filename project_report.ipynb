{
 "cells": [
  {
   "cell_type": "markdown",
   "metadata": {},
   "source": [
    "### CS/ECE/ISyE 524 &mdash; Introduction to Optimization &mdash; Spring 2021 ###\n",
    "\n",
    "### Final Course Project: Due 5/2/21, 12:05pm\n",
    "\n",
    "# UW-Madison Underguade Course Planning #\n",
    "\n",
    "#### Shawn Zhong (shawn.zhong@wisc.edu), Evan Wang (xwang2488@wisc.edu), Jun Lin (tan65@wisc.edu)\n",
    "\n",
    "*****\n",
    "\n",
    "### Table of Contents\n",
    "\n",
    "<span style=\"color:red\">TODO: update this</span>\n",
    "\n",
    "1. [Introduction](#1.-Introduction)\n",
    "  1. [Constraints](#1.A-Constraints)\n",
    "  1. [Data](#1.B-Data)\n",
    "  1. [Outline](#1.C-Outline)\n",
    "\n",
    "1. [Mathematical Model](#2.-Mathematical-Model)\n",
    "  1. [Assumptions](#2.A-Assumptions)\n",
    "  1. [Notations](#2.B-Notations)\n",
    "  1. [Decision Variables](#2.C-Decision-Variables)\n",
    "  1. [Constraints](#2.E-Constraints)\n",
    "  1. [Standard Form](#2.F-Standard-Form)\n",
    "\n",
    "1. [Solution](#3.-Solution)\n",
    "\n",
    "1. [Results and Discussion](#4.-Results-and-discussion)\n",
    "  1. [Optional Subsection](#4.A.-Feel-free-to-add-subsections)\n",
    "\n",
    "1. [Conclusion](#5.-Conclusion)"
   ]
  },
  {
   "cell_type": "markdown",
   "metadata": {
    "cell_id": "00000-7ae4305a-1e8d-4d60-a392-7db1c550ec5c",
    "deepnote_cell_type": "markdown",
    "tags": []
   },
   "source": [
    "## 1. Introduction\n",
    "\n",
    "The topic that our team settled on is undergrad course planning at UW-Madison. Selecting the appropriate courses for every semester can be a challenging process for some students who aren't certain about the degree structure and numerous requirements. \n",
    "\n",
    "Given that students picked their courses for every semester without considering future courses that have strict prerequisites, some of which are compulsory courses, it is very likely that the student will pick a non-optimum route for graduation. For example, a student will not be able to enroll in a compulsory course in a later semester if he/she hasn't taken the prerequisites to that course. As a result, he/she will have to enroll in the prerequisite courses before being able to enroll in the compulsory courses in subsequent semesters, which will delay the student's graduation date. \n",
    "\n",
    "The goal of this project is to find an optimal course selection for each semester in regards to completing the graduation requirements within the shortest period and the least number of courses taken.\n",
    "\n",
    "### 1.A Constraints\n",
    "\n",
    "We consider the following constraints for course planning:\n",
    "\n",
    "1. **Prerequisites**: Some courses are required to be completed before enrolling in certain classes\n",
    "\n",
    "2. **Graduation requirements**: Some courses are required to be taken to meet the graduation requirements\n",
    "\n",
    "3. **Credit Limit**: The number of courses taken in any given semester cannot exceed a certain number of credit hours\n",
    "\n",
    "4. **No retaking**: A course cannot be taken twice\n",
    "\n",
    "\n",
    "We also have the following constraints that can be added interactively: \n",
    "\n",
    "5. **Desired courses**: Through the interactive console, the student can specify which courses must be included in the plan. \n",
    "\n",
    "6. **Limit workload**: We also allow the student to cap the maximum credit. \n",
    "\n",
    "7. **Transferred courses**: We allow user to specify the transferred courses before entering the university, so our planning program can take that into account. \n",
    "\n",
    "### 1.B Data\n",
    "\n",
    "- The graduation requirements are gathered from the [Online Underguade Guide](https://guide.wisc.edu/undergraduate/#majorscertificatestext). \n",
    "\n",
    "- The course list and prerequisite relationships are obtained from the [Course Search and Enroll website](https://public.enroll.wisc.edu/).\n",
    "\n",
    "\n",
    "### 1.C Outline\n",
    "\n",
    "The rest of the report is structured as follows: We first introduce the mathematical model for this problem ... <span style=\"color:red\">TODO: update this</span>"
   ]
  },
  {
   "cell_type": "markdown",
   "metadata": {},
   "source": [
    "## 2. Mathematical Model"
   ]
  },
  {
   "cell_type": "markdown",
   "metadata": {},
   "source": [
    "### 2.A Assumptions\n",
    "\n",
    "We made the following assumptions for our course planning problem: \n",
    "\n",
    "1. We assume that there is no time conflict for class attendance in a given semester. One can think that all the courses can be taken asynchronously in this pandemic time. This assumption is made since we haven't figured out a way to gather section-level data, and it complicates the optimization problem. \n",
    "\n",
    "1. We assume that the student can pass all the courses taken so there is no retaking. \n",
    "\n",
    "<!-- 1. For graduation requirements, we only consider the major requirements. Students can limit the maximum credit per semester to make space for the courses satisfying general education requirements.  -->"
   ]
  },
  {
   "cell_type": "markdown",
   "metadata": {},
   "source": [
    "### 2.B Notations\n",
    "\n",
    "\n",
    "| Variable | Description | Example  |\n",
    "| :---: | :---: | :---: |\n",
    "| $T$ | maximum number of semesters | For 4-year college, we have $T = 8$ |\n",
    "| $$t\\in \\{0, \\cdots, T\\}$$ | a specific semester      | $t = 2$ is the second semester <br /> $t = 0$ is used for transferred courses |\n",
    "| $C$ | the set of all classes      |   $$C = \\{ \\text{CS 524}, \\text{MATH 240}, \\cdots \\}$$|\n",
    "| $$c \\in C$$ | a specific class | $$c = \\text{CS 524}$$ |\n",
    "\n",
    "### 2.C Decision Variables\n",
    "\n",
    "$x[t, c] \\in \\{ 0, 1\\}$ is a Boolean variable to denote whether to take the class $c \\in C$ at semester $t \\in \\{0, \\cdots, T\\}$. \n",
    "\n",
    "For example, if a student takes CS 524 on the thrid semester, then $x[3, \\text{CS 524}]= 1$. If the student has CS 200 transferred, then $x[0, \\text{CS 200}]= 1$"
   ]
  },
  {
   "cell_type": "markdown",
   "metadata": {},
   "source": [
    "### 2.D Objective \n",
    "\n",
    "A naive objective would be to minimize the sum of $x$: \n",
    "\n",
    "$$\\min \\sum_{t=0}^{T} \\sum_{c \\in C} x[t, c]$$\n",
    "\n",
    "But this would lead to many equally good solutions. To avoid this, we add a weight $t$ to the class $c$ if its taken at semester $t$\n",
    "\n",
    "$$\\min \\sum_{t=0}^{T} \\sum_{c \\in C} x[t, c] \\cdot t$$\n",
    "\n",
    "This avoid students procrastinating class to later semesters. "
   ]
  },
  {
   "cell_type": "markdown",
   "metadata": {
    "cell_id": "00003-70cdf2cc-9dd4-4c34-afcf-7234a703ac9a",
    "deepnote_cell_type": "markdown",
    "tags": []
   },
   "source": [
    "### 2.E Constraints\n",
    "\n",
    "#### Prerequisite\n",
    "\n",
    "To take the class $c$, students may need to take $c'$ in the previous semesters, we can encode such prerequisite using the following constraint: \n",
    "\n",
    "$$x[t, c] \\le \\sum_{i=0}^{t - 1} x[i, c'] $$\n",
    "\n",
    "\n",
    "For example, CS 524 has the prerequisite similar to \"(CS 200 or 300) and (MATH 340 or 341)\", we can encode it with the constraint:\n",
    "\n",
    "$$x[t, \\text{CS 524}] \\le \\sum_{i=0}^{t - 1} x[i, \\text{CS 200}] + \\sum_{i=0}^{t - 1} x[i, \\text{CS 300}] $$\n",
    "\n",
    "$$x[t, \\text{CS 524}] \\le \\sum_{i=0}^{t - 1} x[i, \\text{CS 340}] + \\sum_{i=0}^{t - 1} x[i, \\text{CS 341}] $$\n",
    "\n",
    "\n",
    "#### Graduation Requirement\n",
    "\n",
    "In order to meet the graduation requirement, some class $c$ must be taken, so we have the constraint:\n",
    "\n",
    "$$\\sum_{t=0}^{T} x[t, c] \\ge 1$$\n",
    "    \n",
    "There are other kinds of graduation requirements, such as taking $k$ coureses from a list of $C$, we can encode such requirements using the following constraint:\n",
    "\n",
    "$$\\sum_{t=0}^{T} \\sum_{c \\in C} x[t, c] \\ge k$$\n",
    "    \n",
    "#### Max credits\n",
    "\n",
    "For undergraduate, the number of credits taken in a given semester cannot exceeds a certain number, so we need to ensure that\n",
    "\n",
    "$$\\sum_{c \\in C} x[t, c] \\cdot \\text{credit}(c) \\le \\text{max_credit}, \\quad \\text{for all semesters } t \\in \\{1, \\cdots, T\\}, \\text{classes } c \\in C$$\n",
    "\n",
    "#### No retaking\n",
    "\n",
    "\n",
    "$$\\sum_{t=1}^{T} x[t, c] \\le 1, \\quad \\text{for all classes } c \\in C$$\n",
    "\n",
    "### User specified parameters through interractive interface\n",
    "\n",
    "#### Transferred Courses\n",
    "\n",
    "$$ x[0, c] = 1, \\quad \\text{for all classes } c \\in C_{\\text{trans}}$$\n",
    "\n",
    "$$ x[0, c] = 0, \\quad \\text{for all classes } c \\in C \\setminus C_{\\text{trans}}$$\n",
    "\n",
    "\n",
    "#### Desired Courses\n",
    "\n",
    "$$\\sum_{t=1}^{T} x[t, c] \\ge 1 \\quad \\text{for all classes } c \\in C_{\\text{desiredCourses}} $$\n",
    "\n",
    "#### Limit workload\n",
    "\n",
    "The user will be able to set the desired maximum workload every semester, between 3 and 22, \n",
    "\n",
    "$$\\sum_{c \\in C} x[t, c] \\cdot \\text{credit}(c) \\le \\text{maxWorkload}, \\quad \\text{for all semesters } t \\in \\{1, \\cdots, T\\}$$"
   ]
  },
  {
   "cell_type": "markdown",
   "metadata": {},
   "source": [
    "### 2.F Standard Form"
   ]
  },
  {
   "cell_type": "markdown",
   "metadata": {},
   "source": [
    "We model this problem as a mixed integer programming problem, and the standard form is shown below"
   ]
  },
  {
   "cell_type": "markdown",
   "metadata": {},
   "source": [
    "$$\n",
    "\\begin{aligned}\n",
    "\\underset{x}{\\text{minimize}}\n",
    "\\quad& \\sum_{t=0}^{T} \\sum_{c \\in C} x[t, c] \\cdot t \\\\\n",
    "\\text{subject to:}\n",
    "\\quad&\n",
    "x[t, c] \\le \\sum_{i=0}^{t - 1} x[i, c'], \\\\\n",
    "    & \\qquad\n",
    "    \\text{for all classes } c \\in C, \n",
    "    \\text{classes } c' \\in \\text{prerequisite}(c), \n",
    "    \\text{semesters } t \\in \\{1, \\cdots, T\\} \\\\\n",
    "\\quad&\n",
    "\\sum_{t=0}^{T} \\sum_{c \\in C_i} x[t, c] \\ge k_i \\\\\n",
    "    & \\qquad\n",
    "    \\text{for all requirement set } C_i, \\text{required number of courses } k_i \\\\\n",
    "\\quad&\n",
    "\\sum_{t=0}^{T} x[t, c] \\le 1, \\\\\n",
    "    & \\qquad \\text{for all class } c \\in C \\\\\n",
    "\\quad&\n",
    "\\sum_{c \\in C} x[t, c] \\cdot \\text{credit}(c) \\le \\text{max_credit}, \\\\\n",
    "    & \\qquad\n",
    "    \\text{for all semesters } t \\in \\{1, \\cdots, T\\}, \\text{classes } c \\in C \\\\\n",
    "\\quad& \n",
    "  x[0, c] = 1, \\quad \\text{for all classes } c \\in C_{\\text{trans}}\\\\\n",
    "\\quad& \n",
    "x[0, c] = 0, \\quad \\text{for all classes } c \\in C \\setminus C_{\\text{trans}} \\\\\n",
    "\\quad& x[t, c] \\in \\{0, 1\\}, \\\\\n",
    "    & \\qquad\n",
    "    \\text{for all semesters } t \\in \\{0, \\cdots, T\\}, \\text{classes } c \\in C \n",
    "\\end{aligned}\n",
    "$$"
   ]
  },
  {
   "cell_type": "markdown",
   "metadata": {},
   "source": [
    "## 3. Solution"
   ]
  },
  {
   "cell_type": "markdown",
   "metadata": {},
   "source": [
    "### 3.A Data Gathering\n",
    "\n",
    "We first collect the course data via the public facing API from from the [Course Search and Enroll website](https://public.enroll.wisc.edu/). \n",
    "\n",
    "For example, the following URL gives information about the courses provided in Spring 2021 (with term code 1214). \n",
    "\n",
    "https://public.enroll.wisc.edu/api/search/v1?query={\"selectedTerm\":\"1214\"}\n",
    "\n",
    "We wrote a short script to download the data, and saved the file to `data/1214-spring-2021.json`, so that it can be later procseed by Julia. "
   ]
  },
  {
   "cell_type": "markdown",
   "metadata": {},
   "source": [
    "### 3.B Data Preprossing"
   ]
  },
  {
   "cell_type": "markdown",
   "metadata": {},
   "source": [
    "We first use the `JSON` package to load the raw data into a Julia list. "
   ]
  },
  {
   "cell_type": "code",
   "execution_count": 1,
   "metadata": {},
   "outputs": [
    {
     "name": "stderr",
     "output_type": "stream",
     "text": [
      "\u001b[32m\u001b[1m   Updating\u001b[22m\u001b[39m registry at `~/.julia/registries/General`\n",
      "\u001b[32m\u001b[1m  Resolving\u001b[22m\u001b[39m package versions...\n",
      "\u001b[32m\u001b[1mNo Changes\u001b[22m\u001b[39m to `~/.julia/environments/v1.5/Project.toml`\n",
      "\u001b[32m\u001b[1mNo Changes\u001b[22m\u001b[39m to `~/.julia/environments/v1.5/Manifest.toml`\n"
     ]
    }
   ],
   "source": [
    "using Pkg\n",
    "Pkg.add(\"JSON\")"
   ]
  },
  {
   "cell_type": "code",
   "execution_count": 2,
   "metadata": {
    "scrolled": true
   },
   "outputs": [
    {
     "name": "stdout",
     "output_type": "stream",
     "text": [
      "There are 6510 items in raw_data"
     ]
    }
   ],
   "source": [
    "using JSON\n",
    "\n",
    "raw_data = JSON.parsefile(\"data/1214-spring-2021.json\")[\"hits\"];\n",
    "print(\"There are \", length(raw_data), \" items in raw_data\")"
   ]
  },
  {
   "cell_type": "markdown",
   "metadata": {},
   "source": [
    "Each item in the `raw_data` array is a dictionary with the keys listed below. An example item in the array can be found in the [Appendix](#Appendix). "
   ]
  },
  {
   "cell_type": "code",
   "execution_count": 3,
   "metadata": {},
   "outputs": [
    {
     "data": {
      "text/plain": [
       "\"honors, allCrossListedSubjects, breadths, matched_queries, termCode, levels, subjectAggregate, courseId, academicGroupCode, gradingBasis, advisoryPrerequisites, ethnicStudies, lettersAndScienceCredits, approvedForTopics, courseDesignationRaw, openToFirstYear, gradCourseWork, catalogPrintFlag, sustainability, instructorProvidedContent, courseRequirements, subject, repeatable, fullCourseDesignationRaw, typicallyOffered, foreignLanguage, enrollmentPrerequisites, titleSuggest, minimumCredits, title, lastUpdated, workplaceExperience, courseDesignation, generalEd, topics, description, lastTaught, creditRange, catalogSort, currentlyTaught, firstTaught, catalogNumber, maximumCredits, fullCourseDesignation\""
      ]
     },
     "execution_count": 3,
     "metadata": {},
     "output_type": "execute_result"
    }
   ],
   "source": [
    "join(keys(raw_data[1]), \", \")"
   ]
  },
  {
   "cell_type": "markdown",
   "metadata": {},
   "source": [
    "We notice that the same course can appear multiple times in the list `raw_data` since a course can be cross-listed in multiple departments, so we need to add another layer of indirection to use the course id instead of course name as the unique identifier for a given course. \n",
    "\n",
    "The mapping between from the course name to the course id is saved in the dictionary `cls_name_to_id`, and the mapping from the id to the actual data is saved in `cls_dict`. "
   ]
  },
  {
   "cell_type": "code",
   "execution_count": 4,
   "metadata": {},
   "outputs": [
    {
     "name": "stdout",
     "output_type": "stream",
     "text": [
      "The course id for \"COMP SCI 525\" is 004272\n",
      "The course id for \"I SY E 525\" is 004272\n",
      "The course id for \"MATH 525\" is 004272\n",
      "The course id for \"STAT 525\" is 004272\n"
     ]
    }
   ],
   "source": [
    "cls_dict = Dict(\n",
    "    Symbol(c[\"courseId\"]) => c \n",
    "    for c in raw_data\n",
    ")\n",
    "\n",
    "cls_name_to_id = Dict(\n",
    "    c[\"courseDesignation\"] => Symbol(c[\"courseId\"])\n",
    "    for c in raw_data \n",
    ")\n",
    "\n",
    "for cls_name in [\"COMP SCI 525\", \"I SY E 525\", \"MATH 525\", \"STAT 525\"]\n",
    "    println(\"The course id for \\\"\", cls_name, \"\\\" is \", cls_name_to_id[cls_name])\n",
    "end"
   ]
  },
  {
   "cell_type": "code",
   "execution_count": 5,
   "metadata": {
    "cell_id": "00001-509e56b6-96bf-4171-93b7-17f6af7b585a",
    "deepnote_cell_type": "code",
    "deepnote_to_be_reexecuted": false,
    "execution_millis": 804,
    "execution_start": 1619594027222,
    "scrolled": false,
    "source_hash": "4191e084",
    "tags": []
   },
   "outputs": [
    {
     "name": "stdout",
     "output_type": "stream",
     "text": [
      "We have 5611 courses in total\n"
     ]
    }
   ],
   "source": [
    "println(\"We have \", length(cls_dict), \" courses in total\")"
   ]
  },
  {
   "cell_type": "markdown",
   "metadata": {},
   "source": [
    "### 3.C Decision Variables\n",
    "\n",
    "The decision variable is a Boolean matrix of shape $5611 \\times 8$. "
   ]
  },
  {
   "cell_type": "code",
   "execution_count": 6,
   "metadata": {},
   "outputs": [
    {
     "name": "stdout",
     "output_type": "stream",
     "text": [
      "\n",
      "--------------------------------------------\n",
      "Warning: your license will expire in 9 days\n",
      "--------------------------------------------\n",
      "\n",
      "Academic license - for non-commercial use only - expires 2021-05-10\n"
     ]
    },
    {
     "data": {
      "text/plain": [
       "(5611, 9)"
      ]
     },
     "execution_count": 6,
     "metadata": {},
     "output_type": "execute_result"
    }
   ],
   "source": [
    "using JuMP, Gurobi\n",
    "\n",
    "C = keys(cls_dict)\n",
    "T = 0:8\n",
    "\n",
    "m = Model(with_optimizer(Gurobi.Optimizer, LogToConsole=0))\n",
    "@variable(m, x[C, T], Bin)\n",
    "size(x)\n"
   ]
  },
  {
   "cell_type": "markdown",
   "metadata": {
    "cell_id": "00004-0554b71f-c0c6-4602-a6f0-ffc1c4665bff",
    "deepnote_cell_type": "markdown",
    "tags": []
   },
   "source": [
    "### 3.D CS Major Requirements\n",
    "\n",
    "We use the CS major requirements from the following URL to construct the constraints. \n",
    "\n",
    "https://guide.wisc.edu/undergraduate/letters-science/computer-sciences/computer-sciences-ba/#requirementstext. \n",
    "\n",
    "We note that all of the CS constraints are in the form of choosing $k$ courses from a course set $C'$.  "
   ]
  },
  {
   "cell_type": "code",
   "execution_count": 7,
   "metadata": {},
   "outputs": [],
   "source": [
    "\"\"\"\n",
    "Convert CS course number to course id\n",
    "\"\"\"\n",
    "get_cs_cls_id(number) = get(cls_name_to_id, \"COMP SCI \" * string(number), Symbol())\n",
    "\n",
    "\"\"\"\n",
    "Convert a list of CS course numbers to a list of course ids\n",
    "\"\"\"\n",
    "cs_ids(arr...) = filter(id -> id in C, [get_cs_cls_id(e) for e in arr])\n",
    "\n",
    "\n",
    "function add_cs_major_req()\n",
    "    CS_basic = cs_ids(240, 252, 300, 354, 400)\n",
    "    CS_theory = cs_ids(577, 520)\n",
    "    CS_xware = cs_ids(\n",
    "        407, 506, 536, 538, 537, 552, 564, 640, 642\n",
    "    )\n",
    "    CS_app = cs_ids(\n",
    "        412, 425, 513, 514, 524, 525, 534, 540, 545, 547, 559, 570\n",
    "    )\n",
    "    CS_elec = cs_ids(\n",
    "        407, 412, 425, 435, 471, 475, 506, 513, 514, 520, 524, 525, 526, 532, \n",
    "        533, 534, 536, 537, 538, 539, 540, 545, 547, 552, 558, 559, 564, 567, \n",
    "        570, 576, 577, 579, 635, 640, 642, 679, 639\n",
    "    )\n",
    "\n",
    "    \n",
    "    # Take all from basic computer sciences\n",
    "    for c in CS_basic\n",
    "        @constraint(m, sum(x[c, t] for t in T) >= 1)\n",
    "    end\n",
    "\n",
    "    # Complete 1 for Theory of computer science\n",
    "    @constraint(m, sum(x[c, t] for t in T for c in CS_theory) >= 1)\n",
    "\n",
    "    # Complete 2 for Software & Hardware\n",
    "    @constraint(m, sum(x[c, t] for t in T for c in CS_xware) >= 2)\n",
    "\n",
    "    # Complete 1 for Applications\n",
    "    @constraint(m, sum(x[c, t] for t in T for c in CS_app) >= 1)\n",
    "\n",
    "    # Complete 2 for Electives\n",
    "    @constraint(m, sum(x[c, t] for t in T for c in CS_elec) >= 2)\n",
    "end;"
   ]
  },
  {
   "cell_type": "markdown",
   "metadata": {},
   "source": [
    "### 3.E Math Major Requirement\n",
    "\n",
    "We use the Math major requirements from the following URL to construct the constraints. \n",
    "\n",
    "https://guide.wisc.edu/undergraduate/letters-science/mathematics/mathematics-ba/mathematics-mathematics-programming-computing-ba/#requirementstext\n",
    "\n",
    "The constraints for Math major are more complicated, which includes the following forms:\n",
    "\n",
    "- Choosing $k$ courses from a course set $C'$\n",
    "\n",
    "- $c_1$ and $c_2$ can be either both taken to count as satisfying one course in a course set $C'$\n",
    "\n",
    "- Only one of the course $c \\in C'$ should be taken. If $c_1 \\in C'$ has been taken before, then the student shouldn't take $c_2 \\in C'$. "
   ]
  },
  {
   "cell_type": "code",
   "execution_count": 8,
   "metadata": {},
   "outputs": [],
   "source": [
    "\"\"\"\n",
    "Convert Math course number to course id\n",
    "\"\"\"\n",
    "get_math_cls_id(number) = get(cls_name_to_id, \"MATH \" * string(number), Symbol())\n",
    "\n",
    "\"\"\"\n",
    "Convert a list of Math course numbers to a list of course ids\n",
    "\"\"\"\n",
    "math_ids(arr...) = filter(id -> id in C, [get_math_cls_id(e) for e in arr])\n",
    "\n",
    "function add_math_major_req()\n",
    "    MATH_linear_algebra = math_ids(320, 341, 340, 375)\n",
    "    MATH_intermediate = math_ids(321, 322, 375, 421, 467)\n",
    "    MATH_advanced = math_ids(514, 521, 531, 535, 540, 541, 571)\n",
    "    MATH_elective_A = math_ids(\n",
    "        513, 522, 525, 542, 567, 570,\n",
    "        605, 619, 627, 629, 632, 635\n",
    "    )\n",
    "    MATH_elective_B = math_ids(\n",
    "        310, 319, 376, 415, 425, 431, 309, 435, 443, 475\n",
    "    )\n",
    "    CS_basic = cs_ids(300, 400)\n",
    "    CS_elective = cs_ids(\n",
    "        412, 471, 520, 524, 526, 532, 533, 534, 538, 539,\n",
    "        540, 545, 558, 559, 567, 576, 577, 635, 642\n",
    "    )\n",
    "    \n",
    "    # Complete 1 for Linear Algebra\n",
    "    @constraint(m, sum(x[c, t] for t in T for c in MATH_linear_algebra) >= 1)\n",
    "    \n",
    "    # Complete 1 for Linear Algebra Intermediate Mathematics Requirement\n",
    "    @constraint(m, sum(x[c, t] for t in T for c in MATH_intermediate) >= 1)\n",
    "    \n",
    "    # Complete 1 for Advanced Mathematics Requirement\n",
    "    @constraint(m, sum(x[c, t] for t in T for c in MATH_advanced) >= 1)\n",
    "    \n",
    "    # MATH Elective to reach required 6 courses\n",
    "    # Select one or more from MATH_elective_A\n",
    "    @constraint(m, sum(x[c, t] for t in T for c in MATH_elective_A) >= 1)\n",
    "    # Select Select remaining courses from MATH_elective_B\n",
    "    @constraint(m, \n",
    "        sum(x[c, t] for t in T for c in MATH_elective_A) +\n",
    "        sum(x[c, t] for t in T for c in MATH_elective_B) >= 6\n",
    "    )\n",
    "    \n",
    "    # Programming and Computations Requirement at least 12 credit hours\n",
    "    for c in CS_basic\n",
    "        @constraint(m, sum(x[c, t] for t in T) >= 1)\n",
    "    end\n",
    "    # CS_elective\n",
    "    @constraint(m, sum(x[c, t] for t in T for c in CS_elective) >= 2)\n",
    "    \n",
    "    # Additional requirements\n",
    "    # 321 & 322 must be taken together\n",
    "    @constraint(m, \n",
    "        sum(x[get_math_cls_id(321), t] for t in T) == \n",
    "        sum(x[get_math_cls_id(322), t] for t in T)\n",
    "    )\n",
    "    \n",
    "    # 319, 320, & 376 cannot be taken together\n",
    "    @constraint(m, \n",
    "        sum(x[c, t] for t in T for c in math_ids(319, 320, 376)) <= 1\n",
    "    )\n",
    "    \n",
    "    # 309 & 431 cannot be taken together\n",
    "    @constraint(m, \n",
    "        sum(x[c, t] for t in T for c in math_ids(309, 431)) <= 1\n",
    "    )\n",
    "end;"
   ]
  },
  {
   "cell_type": "markdown",
   "metadata": {},
   "source": [
    "### 3.F Course Prerequisites\n",
    "\n",
    "Although we have the course prerequisites information in `raw_data`, it's in string format (see [Appendix](#6.B-Enrollment-Prerequisites)), so we need to manually encode this information. \n",
    "\n",
    "<span style=\"color:red\">\n",
    "JUN LIN CHANGED 1:t-1 to 0:t-1, because prerequisites accounts for all previous semester including transferred\n",
    "</span>"
   ]
  },
  {
   "cell_type": "code",
   "execution_count": 9,
   "metadata": {},
   "outputs": [],
   "source": [
    "\"\"\"\n",
    "A helper function for adding prerequisites\n",
    "\n",
    "Don't use this function directly. \n",
    "\"\"\"\n",
    "function _add_prereq(id1, id2, cls, prereq)\n",
    "    for t in T\n",
    "        prereq_id = filter(id -> id in C, [id2(p) for p in prereq])\n",
    "        @constraint(m, x[id1(cls), t] <= sum(x[id, i] for i in 0:t-1 for id in prereq_id))\n",
    "    end\n",
    "end\n",
    "\n",
    "\"\"\"\n",
    "Specify CS class prerequisite for a given CS class\n",
    "\"\"\"\n",
    "add_cs_cs_prereq(cs_cls, one_of...) = \n",
    "    _add_prereq(get_cs_cls_id, get_cs_cls_id, cs_cls, one_of)\n",
    "\n",
    "\"\"\"\n",
    "Specify Math class prerequisite for a given CS class\n",
    "\"\"\"\n",
    "add_cs_math_prereq(cs_cls, one_of...) =\n",
    "    _add_prereq(get_cs_cls_id, get_math_cls_id, cs_cls, one_of)\n",
    "\n",
    "\"\"\"\n",
    "Specify Math class prerequisite for a given Math class\n",
    "\"\"\"\n",
    "add_math_math_prereq(math_cls, one_of...) =\n",
    "    _add_prereq(get_math_cls_id, get_math_cls_id, math_cls, one_of)\n",
    "\n",
    "\n",
    "\"\"\"\n",
    "Add all course prerequisite\n",
    "\"\"\"\n",
    "function add_all_prereq()\n",
    "    add_cs_cs_prereq(300, 200)\n",
    "    add_cs_cs_prereq(354, 252)\n",
    "    add_cs_cs_prereq(354, 300)\n",
    "\n",
    "    add_cs_cs_prereq(506, 400)\n",
    "    add_cs_cs_prereq(506, 407, 536, 537, 559, 564, 570, 679, 552)\n",
    "\n",
    "    add_cs_cs_prereq(552, 352)\n",
    "    add_cs_cs_prereq(552, 354)\n",
    "    \n",
    "    add_cs_cs_prereq(559, 400)\n",
    "\n",
    "    for c in [400, 407, 412, 513, 514, 524, 532, 534, 539, 540, 570, 576]\n",
    "        add_cs_cs_prereq(c, 300)\n",
    "    end\n",
    "\n",
    "    for c in [536, 537, 538, 558, 564]\n",
    "        add_cs_cs_prereq(c, 354)\n",
    "        add_cs_cs_prereq(c, 400)\n",
    "    end\n",
    "\n",
    "    for c in [520, 577]\n",
    "        add_cs_cs_prereq(c, 400)\n",
    "        add_cs_cs_prereq(c, 240, 475)\n",
    "    end\n",
    "\n",
    "    for c in [640, 642]\n",
    "        add_cs_cs_prereq(c, 537)\n",
    "    end\n",
    "    \n",
    "    for c in [435, 513, 524, 525]\n",
    "        add_cs_math_prereq(c, 340, 341, 375)\n",
    "    end\n",
    "\n",
    "    for c in [412, 532, 576]\n",
    "        add_cs_math_prereq(c, 222)\n",
    "    end\n",
    "    \n",
    "    for c in [425, 475, 513, 533, 567]\n",
    "        add_cs_math_prereq(c, 320, 340, 341, 375)\n",
    "    end\n",
    "    \n",
    "    add_cs_math_prereq(412, 240, 234)\n",
    "    add_cs_math_prereq(435, 320)\n",
    "    add_cs_math_prereq(558, 234)\n",
    "    \n",
    "    \n",
    "    \n",
    "    \n",
    "    for c in [234, 310, 319, 320, 340]\n",
    "        add_math_math_prereq(c, 222, 276)\n",
    "    end\n",
    "    \n",
    "    for c in [309, 321, 341, 421, 431]\n",
    "        add_math_math_prereq(c, 234, 376)\n",
    "    end\n",
    "    \n",
    "    for c in [321, 443, 540]\n",
    "       add_math_math_prereq(c, 319, 320, 340, 341, 375) \n",
    "    end\n",
    "    \n",
    "    \n",
    "    add_math_math_prereq(222, 221)\n",
    "    add_math_math_prereq(322, 321)\n",
    "    add_math_math_prereq(376, 375)\n",
    "    \n",
    "    \n",
    "    add_math_math_prereq(521, 234, 322, 341, 376, 421)\n",
    "    add_math_math_prereq(522, 521)\n",
    "    \n",
    "    add_math_math_prereq(531, 376, 421, 521)\n",
    "    \n",
    "    add_math_math_prereq(540, 234, 375)\n",
    "    add_math_math_prereq(540, 341, 375, 421, 476, 521)\n",
    "    \n",
    "    add_math_math_prereq(541, 234, 375)\n",
    "    add_math_math_prereq(541, 320, 341, 375, 421, 476, 521)\n",
    "    \n",
    "    add_math_math_prereq(542, 541)\n",
    "    add_math_math_prereq(567, 541)\n",
    "    \n",
    "    add_math_math_prereq(619, 322, 421, 521)\n",
    "    add_math_math_prereq(619, 319, 320, 376, 415, 519)\n",
    "    \n",
    "    add_math_math_prereq(629, 552)\n",
    "    \n",
    "    add_math_math_prereq(632, 431, 309, 531)\n",
    "    add_math_math_prereq(632, 320, 340, 341, 375, 421, 531)\n",
    "end;\n",
    "\n",
    "# x = find_optimal_schedule(max_credit=9, math_major=true)\n",
    "# print_result(x)"
   ]
  },
  {
   "cell_type": "markdown",
   "metadata": {},
   "source": [
    "### 3.G Other Constraints"
   ]
  },
  {
   "cell_type": "markdown",
   "metadata": {},
   "source": [
    "We define the max credit constraint and no retaking constraint in the following block: \n"
   ]
  },
  {
   "cell_type": "code",
   "execution_count": 10,
   "metadata": {},
   "outputs": [],
   "source": [
    "\"\"\"\n",
    "Returns the minimum number of credit given a course id\n",
    "\"\"\"\n",
    "credit(c) = cls_dict[c][\"minimumCredits\"]\n",
    "\n",
    "function add_max_credit_constraint(max_credit)\n",
    "    for t in 1:length(max_credit)\n",
    "        @constraint(m, sum(x[c, t] * credit(c) for c in C) <= max_credit[t])\n",
    "    end\n",
    "end;\n",
    "\n",
    "function add_no_retaking_constraint()\n",
    "    for c in C\n",
    "        @constraint(m, sum(x[c, t] for t in T) <= 1)\n",
    "    end\n",
    "end;\n",
    "\n",
    "function add_transferred_courses_constraint(transferred_courses)\n",
    "    for c in C\n",
    "        if (c in transferred_courses)\n",
    "            @constraint(m, x[c, 0] == 1)\n",
    "        else\n",
    "            @constraint(m, x[c, 0] == 0)\n",
    "        end\n",
    "    end\n",
    "end;\n",
    "\n",
    "function add_desired_courses_constraint(desired_courses)\n",
    "    for c in desired_courses\n",
    "        @constraint(m, sum(x[c, t] for t in T) >= 1)\n",
    "    end\n",
    "    \n",
    "end;"
   ]
  },
  {
   "cell_type": "markdown",
   "metadata": {},
   "source": [
    "### 3.H Putting Things Together"
   ]
  },
  {
   "cell_type": "markdown",
   "metadata": {},
   "source": [
    "We define the `find_optimal_schedule` function below to solve for the optimal schedule given the constraints above"
   ]
  },
  {
   "cell_type": "code",
   "execution_count": 11,
   "metadata": {},
   "outputs": [
    {
     "name": "stdout",
     "output_type": "stream",
     "text": [
      "\n",
      "--------------------------------------------\n",
      "Warning: your license will expire in 9 days\n",
      "--------------------------------------------\n",
      "\n",
      "Academic license - for non-commercial use only - expires 2021-05-10\n",
      "  5.720953 seconds (30.32 M allocations: 1.546 GiB, 7.29% gc time)\n"
     ]
    }
   ],
   "source": [
    "function find_optimal_schedule(;\n",
    "        num_semester=8,\n",
    "        max_credit=[], \n",
    "        math_major=false, \n",
    "        cs_major=false,\n",
    "        transferred_courses=[],\n",
    "        desired_courses=[]\n",
    "    )\n",
    "    global T = 0:num_semester\n",
    "    global m = Model(with_optimizer(Gurobi.Optimizer, LogToConsole=0))\n",
    "    @variable(m, x[C, T], Bin)\n",
    "    \n",
    "    add_all_prereq()\n",
    "    add_max_credit_constraint(max_credit)\n",
    "    add_no_retaking_constraint()\n",
    "    add_transferred_courses_constraint(transferred_courses)\n",
    "    add_desired_courses_constraint(desired_courses)\n",
    "    \n",
    "    if math_major\n",
    "        add_math_major_req()\n",
    "    end\n",
    "    \n",
    "    if cs_major\n",
    "        add_cs_major_req()\n",
    "    end\n",
    "    \n",
    "    @objective(m, Min, sum(x[c, t] * t for c in C, t in 1:num_semester))\n",
    "\n",
    "    @time optimize!(m)\n",
    "    if termination_status(m) == MOI.OPTIMAL\n",
    "        global x = value.(x)\n",
    "        return x\n",
    "    else\n",
    "        println(termination_status(m))\n",
    "    end\n",
    "end\n",
    "\n",
    "find_optimal_schedule();"
   ]
  },
  {
   "cell_type": "markdown",
   "metadata": {},
   "source": [
    "## 4. Results and Discussion ##\n",
    "\n",
    "Here, you display and discuss the results. Show figures, plots, images, trade-off curves, or whatever else you can think of to best illustrate your results. The discussion should explain what the results mean, and how to interpret them. You should also explain the limitations of your approach/model and how sensitive your results are to the assumptions you made."
   ]
  },
  {
   "cell_type": "markdown",
   "metadata": {},
   "source": [
    "### 4.A Show Schedule"
   ]
  },
  {
   "cell_type": "markdown",
   "metadata": {},
   "source": [
    "We first define some functions to print out the results from the optimization problem. "
   ]
  },
  {
   "cell_type": "code",
   "execution_count": 12,
   "metadata": {},
   "outputs": [],
   "source": [
    "\"\"\"\n",
    "Returns the name for a course given the course id\n",
    "\"\"\"\n",
    "function get_cls_name(id)\n",
    "    cls = cls_dict[id]\n",
    "    subjects = [\n",
    "        e[\"shortDescription\"] \n",
    "        for e in cls[\"allCrossListedSubjects\"]\n",
    "    ]\n",
    "    if length(subjects) == 0\n",
    "        return cls[\"courseDesignation\"]\n",
    "    else\n",
    "        return join(subjects, \"/\") * \" \" * cls[\"catalogNumber\"]\n",
    "    end\n",
    "end\n",
    "\n",
    "\"\"\"\n",
    "Returns the full name for a course given the course id\n",
    "\"\"\"\n",
    "get_cls_full_name(id) = get_cls_name(id) * \": \" * cls_dict[id][\"title\"]\n",
    "\n",
    "\"\"\"\n",
    "Print the schedule\n",
    "\"\"\"\n",
    "function print_result(x)\n",
    "    n_cls = 0\n",
    "    total_credit = 0\n",
    "    for t in T\n",
    "        for c in C\n",
    "            if x[c, t] > 0\n",
    "                name = get_cls_full_name(c)\n",
    "                if(t == 0)\n",
    "                    println(\"Transfered: \\\"\", name, \"\\\"\")\n",
    "                else\n",
    "                    println(\"Semester \", t, \": take \\\"\", name, \"\\\"\")\n",
    "                    n_cls += 1\n",
    "                    total_credit += credit(c)\n",
    "                end                \n",
    "                \n",
    "            end\n",
    "        end\n",
    "    end\n",
    "    println(\"Number of courses taken: \", n_cls, \" with \", total_credit, \" credits\")\n",
    "    return n_cls, total_credit\n",
    "end;"
   ]
  },
  {
   "cell_type": "markdown",
   "metadata": {},
   "source": [
    "### 4.B CS Major"
   ]
  },
  {
   "cell_type": "code",
   "execution_count": 13,
   "metadata": {
    "scrolled": false
   },
   "outputs": [
    {
     "name": "stdout",
     "output_type": "stream",
     "text": [
      "\n",
      "--------------------------------------------\n",
      "Warning: your license will expire in 9 days\n",
      "--------------------------------------------\n",
      "\n",
      "Academic license - for non-commercial use only - expires 2021-05-10\n",
      "  0.449329 seconds (1.55 M allocations: 109.690 MiB, 4.34% gc time)\n",
      "Semester 1: take \"COMP SCI/MATH 240: Introduction to Discrete Mathematics\"\n",
      "Semester 1: take \"COMP SCI 200: Programming I\"\n",
      "Semester 2: take \"COMP SCI/E C E 252: Introduction to Computer Engineering\"\n",
      "Semester 2: take \"COMP SCI 300: Programming II\"\n",
      "Semester 3: take \"COMP SCI/E C E 354: Machine Organization and Programming\"\n",
      "Semester 3: take \"COMP SCI 400: Programming III\"\n",
      "Semester 4: take \"COMP SCI 520: Introduction to Theory of Computing\"\n",
      "Semester 4: take \"COMP SCI 538: Introduction to the Theory and Design of Programming Languages\"\n",
      "Semester 5: take \"COMP SCI 536: Introduction to Programming Languages and Compilers\"\n",
      "Semester 5: take \"COMP SCI 534: Computational Photography\"\n",
      "Number of courses taken: 10 with 29 credits\n"
     ]
    }
   ],
   "source": [
    "num_semester = 8\n",
    "max_credit = [6 for i=1:num_semester]\n",
    "x = find_optimal_schedule(max_credit = max_credit, cs_major=true, num_semester = num_semester)\n",
    "print_result(x);"
   ]
  },
  {
   "cell_type": "markdown",
   "metadata": {},
   "source": [
    "### 4.C Math Major"
   ]
  },
  {
   "cell_type": "markdown",
   "metadata": {},
   "source": [
    "Unlike the CS major, we are unable to find a solution if we only take 6 credits per semester"
   ]
  },
  {
   "cell_type": "code",
   "execution_count": 14,
   "metadata": {},
   "outputs": [
    {
     "name": "stdout",
     "output_type": "stream",
     "text": [
      "\n",
      "--------------------------------------------\n",
      "Warning: your license will expire in 9 days\n",
      "--------------------------------------------\n",
      "\n",
      "Academic license - for non-commercial use only - expires 2021-05-10\n",
      "  0.119062 seconds (183.50 k allocations: 39.087 MiB)\n",
      "INFEASIBLE_OR_UNBOUNDED\n"
     ]
    },
    {
     "ename": "LoadError",
     "evalue": "MethodError: no method matching getindex(::Nothing, ::Symbol, ::Int64)",
     "output_type": "error",
     "traceback": [
      "MethodError: no method matching getindex(::Nothing, ::Symbol, ::Int64)",
      "",
      "Stacktrace:",
      " [1] print_result(::Nothing) at ./In[12]:30",
      " [2] top-level scope at In[14]:4",
      " [3] include_string(::Function, ::Module, ::String, ::String) at ./loading.jl:1091"
     ]
    }
   ],
   "source": [
    "num_semester = 8\n",
    "max_credit = [6 for i=1:num_semester]\n",
    "x = find_optimal_schedule(max_credit = max_credit, math_major=true, num_semester = num_semester)\n",
    "print_result(x);"
   ]
  },
  {
   "cell_type": "code",
   "execution_count": 15,
   "metadata": {},
   "outputs": [
    {
     "name": "stdout",
     "output_type": "stream",
     "text": [
      "\n",
      "--------------------------------------------\n",
      "Warning: your license will expire in 9 days\n",
      "--------------------------------------------\n",
      "\n",
      "Academic license - for non-commercial use only - expires 2021-05-10\n",
      "  0.137730 seconds (183.52 k allocations: 39.087 MiB)\n",
      "Semester 1: take \"COMP SCI 200: Programming I\"\n",
      "Semester 1: take \"MATH 221: Calculus and Analytic Geometry 1\"\n",
      "Semester 2: take \"MATH 222: Calculus and Analytic Geometry 2\"\n",
      "Semester 2: take \"COMP SCI 300: Programming II\"\n",
      "Semester 3: take \"COMP SCI/MATH 514: Numerical Analysis\"\n",
      "Semester 3: take \"MATH 340: Elementary Matrix and Linear Algebra\"\n",
      "Semester 3: take \"COMP SCI 400: Programming III\"\n",
      "Semester 4: take \"COMP SCI/I SY E/MATH 425: Introduction to Combinatorial Optimization\"\n",
      "Semester 4: take \"MATH 319: Techniques in Ordinary Differential Equations\"\n",
      "Semester 4: take \"MATH 443: Applied Linear Algebra\"\n",
      "Semester 5: take \"COMP SCI 540: Introduction to Artificial Intelligence\"\n",
      "Semester 5: take \"COMP SCI/E C E 533: Image Processing\"\n",
      "Semester 5: take \"COMP SCI/I SY E/MATH/STAT 525: Linear Optimization\"\n",
      "Semester 6: take \"MATH 234: Calculus--Functions of Several Variables\"\n",
      "Semester 6: take \"COMP SCI/MATH/STAT 475: Introduction to Combinatorics\"\n",
      "Semester 7: take \"MATH 421: The Theory of Single Variable Calculus\"\n",
      "Semester 7: take \"COMP SCI/MATH 513: Numerical Linear Algebra\"\n",
      "Number of courses taken: 17 with 55 credits\n"
     ]
    }
   ],
   "source": [
    "num_semester = 8\n",
    "max_credit = [9 for i=1:num_semester]\n",
    "x = find_optimal_schedule(max_credit = max_credit, math_major=true, num_semester = num_semester)\n",
    "print_result(x);"
   ]
  },
  {
   "cell_type": "markdown",
   "metadata": {},
   "source": [
    "### 4.D CS & Math Double Major"
   ]
  },
  {
   "cell_type": "markdown",
   "metadata": {},
   "source": [
    "With double major, only 21 classes taken instead of 17 + 10 = 27, and the number of credits is reduced as well.  "
   ]
  },
  {
   "cell_type": "code",
   "execution_count": 16,
   "metadata": {},
   "outputs": [
    {
     "name": "stdout",
     "output_type": "stream",
     "text": [
      "\n",
      "--------------------------------------------\n",
      "Warning: your license will expire in 9 days\n",
      "--------------------------------------------\n",
      "\n",
      "Academic license - for non-commercial use only - expires 2021-05-10\n",
      "  0.148213 seconds (183.68 k allocations: 39.119 MiB)\n",
      "Semester 1: take \"COMP SCI 200: Programming I\"\n",
      "Semester 1: take \"MATH 221: Calculus and Analytic Geometry 1\"\n",
      "Semester 2: take \"MATH 222: Calculus and Analytic Geometry 2\"\n",
      "Semester 2: take \"COMP SCI/E C E 252: Introduction to Computer Engineering\"\n",
      "Semester 2: take \"COMP SCI 300: Programming II\"\n",
      "Semester 3: take \"COMP SCI/E C E 354: Machine Organization and Programming\"\n",
      "Semester 3: take \"MATH 340: Elementary Matrix and Linear Algebra\"\n",
      "Semester 3: take \"COMP SCI 400: Programming III\"\n",
      "Semester 4: take \"COMP SCI/I SY E/MATH 425: Introduction to Combinatorial Optimization\"\n",
      "Semester 4: take \"COMP SCI/MATH 240: Introduction to Discrete Mathematics\"\n",
      "Semester 4: take \"COMP SCI/MATH 514: Numerical Analysis\"\n",
      "Semester 5: take \"COMP SCI 536: Introduction to Programming Languages and Compilers\"\n",
      "Semester 5: take \"COMP SCI 520: Introduction to Theory of Computing\"\n",
      "Semester 5: take \"COMP SCI/I SY E/MATH/STAT 525: Linear Optimization\"\n",
      "Semester 6: take \"MATH 319: Techniques in Ordinary Differential Equations\"\n",
      "Semester 6: take \"COMP SCI/MATH/STAT 475: Introduction to Combinatorics\"\n",
      "Semester 6: take \"COMP SCI/MATH 513: Numerical Linear Algebra\"\n",
      "Semester 7: take \"MATH 234: Calculus--Functions of Several Variables\"\n",
      "Semester 7: take \"COMP SCI 538: Introduction to the Theory and Design of Programming Languages\"\n",
      "Semester 8: take \"MATH 421: The Theory of Single Variable Calculus\"\n",
      "Semester 8: take \"MATH/STAT 309: Introduction to Probability and Mathematical Statistics I\"\n",
      "Number of courses taken: 21 with 66 credits\n"
     ]
    }
   ],
   "source": [
    "\n",
    "num_semester = 8\n",
    "max_credit = [9 for i=1:num_semester]\n",
    "x = find_optimal_schedule(max_credit = max_credit, cs_major=true, math_major=true, num_semester = num_semester)\n",
    "print_result(x);"
   ]
  },
  {
   "cell_type": "markdown",
   "metadata": {},
   "source": [
    "### 4.E Interactive console interface\n",
    "\n",
    "##### All user input are passed through a robust error checking script to check for invalid inputs, which will cause difficult to trace errors later on if not properly dealt with\n",
    "\n",
    "#### Desired courses\n",
    "User will be able to choose which are the courses they want to be included in the course schedule. Note that all the prerequisites of the desired courses will be accounted for as well. \n",
    "\n",
    "#### Transferred courses\n",
    "User will be able to specify which are the courses they already completed prior to enrolling into the university. Note that only courses without any prerequisites will be allowed. This is based on the assumption that transfered courses are elementary level courses. \n",
    "\n",
    "#### Max work load on each semester\n",
    "User is able to specify the maximum number of credits they want to take on a given semester between 0 and 22. Note that maximum credit load of \"0\" would mean the user wants to take a gap semester \n",
    "\n",
    "#### Change number of semester\n",
    "User is able to modify the total number of semesters. The default number of semester is 8. Changes on the maximum credit load each semester made through \"Max work load on each semester\" will be preserved. If the new specified number of semester is greater than the current value, the maximum credit loads of additional semester will be set to the default number, 9. "
   ]
  },
  {
   "cell_type": "code",
   "execution_count": 39,
   "metadata": {},
   "outputs": [
    {
     "name": "stdout",
     "output_type": "stream",
     "text": [
      "\n",
      "What would you like to do? (enter number)\n",
      "\n",
      "        1. Add desired courses\n",
      "        2. Add prior transferred courses \n",
      "        3. Limit workload on each semester\n",
      "        4. Change number of semester, default is 8\n",
      "        5. Run program\n",
      "        \n",
      "stdin> 1\n",
      "format:\n",
      " eg: \"COMP SCI 300\"\n",
      "stdin> MUSIC 113\n",
      "MUSIC 113 is successfully added to desired course list\n",
      " \n",
      "\n",
      "What would you like to do? (enter number)\n",
      "\n",
      "        1. Add desired courses\n",
      "        2. Add prior transferred courses \n",
      "        3. Limit workload on each semester\n",
      "        4. Change number of semester, default is 8\n",
      "        5. Run program\n",
      "        \n",
      "stdin> 1\n",
      "format:\n",
      " eg: \"COMP SCI 300\"\n",
      "stdin> COMP SCI 240\n",
      "COMP SCI 240 is successfully added to desired course list\n",
      " \n",
      "\n",
      "What would you like to do? (enter number)\n",
      "\n",
      "        1. Add desired courses\n",
      "        2. Add prior transferred courses \n",
      "        3. Limit workload on each semester\n",
      "        4. Change number of semester, default is 8\n",
      "        5. Run program\n",
      "        \n",
      "stdin> 1\n",
      "format:\n",
      " eg: \"COMP SCI 300\"\n",
      "stdin> COMP SCI 524\n",
      "COMP SCI 524 is successfully added to desired course list\n",
      " \n",
      "\n",
      "What would you like to do? (enter number)\n",
      "\n",
      "        1. Add desired courses\n",
      "        2. Add prior transferred courses \n",
      "        3. Limit workload on each semester\n",
      "        4. Change number of semester, default is 8\n",
      "        5. Run program\n",
      "        \n",
      "stdin> 2\n",
      "format:\n",
      " eg: \"COMP SCI 300\"\n",
      "stdin> COMP SCI 200\n",
      "COMP SCI 200 is successfully added to transfered courses list\n",
      " \n",
      "\n",
      "What would you like to do? (enter number)\n",
      "\n",
      "        1. Add desired courses\n",
      "        2. Add prior transferred courses \n",
      "        3. Limit workload on each semester\n",
      "        4. Change number of semester, default is 8\n",
      "        5. Run program\n",
      "        \n",
      "stdin> 2\n",
      "format:\n",
      " eg: \"COMP SCI 300\"\n",
      "stdin> COMP SCI 240\n",
      "COMP SCI 240 is successfully added to transfered courses list\n",
      " \n",
      "\n",
      "What would you like to do? (enter number)\n",
      "\n",
      "        1. Add desired courses\n",
      "        2. Add prior transferred courses \n",
      "        3. Limit workload on each semester\n",
      "        4. Change number of semester, default is 8\n",
      "        5. Run program\n",
      "        \n",
      "stdin> 2\n",
      "format:\n",
      " eg: \"COMP SCI 300\"\n",
      "stdin> MUSIC 113\n",
      "MUSIC 113 is successfully added to transfered courses list\n",
      " \n",
      "\n",
      "What would you like to do? (enter number)\n",
      "\n",
      "        1. Add desired courses\n",
      "        2. Add prior transferred courses \n",
      "        3. Limit workload on each semester\n",
      "        4. Change number of semester, default is 8\n",
      "        5. Run program\n",
      "        \n",
      "stdin> 5\n",
      "\n",
      "--------------------------------------------\n",
      "Warning: your license will expire in 9 days\n",
      "--------------------------------------------\n",
      "\n",
      "Academic license - for non-commercial use only - expires 2021-05-10\n",
      "  0.125395 seconds (183.52 k allocations: 39.090 MiB)\n",
      "Transfered: \"COMP SCI/MATH 240: Introduction to Discrete Mathematics\"\n",
      "Transfered: \"COMP SCI 200: Programming I\"\n",
      "Transfered: \"MUSIC 113: Music in Performance\"\n",
      "Semester 1: take \"COMP SCI 300: Programming II\"\n",
      "Semester 1: take \"MATH 221: Calculus and Analytic Geometry 1\"\n",
      "Semester 2: take \"MATH 222: Calculus and Analytic Geometry 2\"\n",
      "Semester 2: take \"COMP SCI/E C E 252: Introduction to Computer Engineering\"\n",
      "Semester 2: take \"COMP SCI 400: Programming III\"\n",
      "Semester 3: take \"COMP SCI/E C E 354: Machine Organization and Programming\"\n",
      "Semester 3: take \"COMP SCI 520: Introduction to Theory of Computing\"\n",
      "Semester 3: take \"MATH 340: Elementary Matrix and Linear Algebra\"\n",
      "Semester 4: take \"COMP SCI 536: Introduction to Programming Languages and Compilers\"\n",
      "Semester 4: take \"COMP SCI 538: Introduction to the Theory and Design of Programming Languages\"\n",
      "Semester 4: take \"COMP SCI/E C E/I SY E 524: Introduction to Optimization\"\n",
      "Number of courses taken: 11 with 35 credits\n"
     ]
    }
   ],
   "source": [
    "desired_courses = []\n",
    "desired_course_ids = []\n",
    "transferred_courses = []\n",
    "transferred_course_ids = []\n",
    "num_semester = 8\n",
    "max_work_load = [9 for i in 1: num_semester]\n",
    "\n",
    "\n",
    "function responseOne(desired_courses)\n",
    "    print(\"format:\\n eg: \\\"COMP SCI 300\\\"\\n\")\n",
    "    courseName = readline()\n",
    "    \n",
    "    if(!haskey(cls_name_to_id, courseName))\n",
    "        println(\"Invalid course name/ Course not found\")\n",
    "        return desired_courses\n",
    "    end\n",
    "    \n",
    "    println(courseName, \" is successfully added to desired course list\\n \")\n",
    "    return vcat(desired_courses, courseName)\n",
    "end\n",
    "\n",
    "\n",
    "function responseTwo(transferred_courses)\n",
    "    print(\"format:\\n eg: \\\"COMP SCI 300\\\"\\n\")\n",
    "    \n",
    "    courseName = readline()\n",
    "    \n",
    "    if(!haskey(cls_name_to_id, courseName))\n",
    "        println(\"Invalid course name/ Course not found\")\n",
    "        return transferred_courses\n",
    "    end\n",
    "    \n",
    "    println(courseName, \" is successfully added to transfered courses list\\n \")\n",
    "    return vcat(transferred_courses, courseName)\n",
    "end\n",
    "\n",
    "function responseThree(max_work_load)\n",
    "\n",
    "    println(\"Enter maximum Y credits for X semester, default workload is 9 credits per semester\")\n",
    "    println(\"format:\\n eg: \\\"2, 6\\\" means maximum of 6 credits in semester 2\")\n",
    "    \n",
    "    response = readline()\n",
    "    \n",
    "    if(size(split(response, ','))[1] != 2)\n",
    "        print(\"Invalid format\")\n",
    "        return max_work_load\n",
    "    end\n",
    "    \n",
    "    semester = split(response, ',')[1]\n",
    "    max_credit = split(response, ',')[2]\n",
    "    \n",
    "\n",
    "    re = r\"^([1-9])\";\n",
    "    \n",
    "    if(!occursin(re, semester))\n",
    "        println(\"Invalid semester number format: \\n\")\n",
    "        return max_work_load\n",
    "    end\n",
    "    \n",
    "    semester = parse(Int64, semester)\n",
    "    if(semester > num_semester)\n",
    "        println(\"Invalid semester number: semester input is greater than number of semester\")\n",
    "        return max_work_load\n",
    "    end\n",
    "\n",
    "    # remove space at the beginning if the user input a space\n",
    "    if(max_credit[1] == ' ')\n",
    "        max_credit = max_credit[2:sizeof(max_credit)]\n",
    "    end\n",
    "    \n",
    "    re = r\"^([0-9])\";\n",
    "    if(!occursin(re, max_credit))\n",
    "        println(\"Invalid max credit number format: \\n\")\n",
    "        return max_work_load\n",
    "    end\n",
    "\n",
    "    max_credit = parse(Int64, max_credit)\n",
    "\n",
    "    if ((max_credit < 0) || (max_credit > 22 ))\n",
    "        println(\"Invalid credit amount, please enter a number between 0 and 22\")\n",
    "        return max_work_load\n",
    "    end\n",
    "    \n",
    "    max_work_load[semester] = max_credit\n",
    "    println(\"Maximum workload on semester: \", semester,\" successfully set to: \", max_credit)\n",
    "    \n",
    "    return max_work_load\n",
    "end\n",
    "\n",
    "function responseFour(num_semester)\n",
    "\n",
    "    println(\"Enter number of semester\")\n",
    "    \n",
    "    response = readline()\n",
    "\n",
    "    re = r\"^([0-9])\";\n",
    "    if(!occursin(re, response))\n",
    "        println(\"Invalid number, number of semester is still: \", num_semester)\n",
    "        return num_semester\n",
    "    end\n",
    "    \n",
    "    response = parse(Int64, response)\n",
    "\n",
    "    \n",
    "    if ((response < 4))\n",
    "        println(\"You're not a genius, lets be real here. number of semester is still: \", num_semester)\n",
    "        return num_semester\n",
    "    end\n",
    "    \n",
    "    if ((response > 12))\n",
    "        println(\"You're not seriosly gonna spend more than 6 years in undergrad are you? number of semester is still: \", num_semester)\n",
    "        return num_semester\n",
    "    end\n",
    "    \n",
    "    println(\"number of semester successfully set to: \", response)\n",
    "    \n",
    "    return response\n",
    "end\n",
    "\n",
    "\"\"\"\n",
    "Convert a single course name to course ID\n",
    "\"\"\"\n",
    "get_cls_id(cls_name) = get(cls_name_to_id, cls_name, Symbol())\n",
    "\n",
    "\"\"\"\n",
    "Convert a list of course names to a list of course ids\n",
    "\"\"\"\n",
    "get_course_ids(arr) = filter(id -> id in C, [get_cls_id(e) for e in arr])\n",
    "\n",
    "loopV = true\n",
    "\n",
    "while(loopV)\n",
    "    \n",
    "    print(\"\\nWhat would you like to do? (enter number)\\n\n",
    "        1. Add desired courses\n",
    "        2. Add prior transferred courses \n",
    "        3. Limit workload on each semester\n",
    "        4. Change number of semester, default is 8\n",
    "        5. Run program\n",
    "        \\n\") \n",
    "  \n",
    "    # Calling rdeadline() function\n",
    "    response = readline()\n",
    "    \n",
    "    if (response == \"1\")\n",
    "        desired_courses = responseOne(desired_courses)\n",
    "        \n",
    "    elseif(response == \"2\")\n",
    "        transferred_courses = responseTwo(transferred_courses)\n",
    "        \n",
    "    elseif(response == \"3\")\n",
    "        max_work_load = responseThree(max_work_load)\n",
    "        \n",
    "    elseif(response == \"4\")\n",
    "        num_semester = responseFour(num_semester)\n",
    "        if(length(max_work_load) > num_semester)\n",
    "            max_work_load = max_work_load[1: num_semester]\n",
    "        else\n",
    "            max_work_load = vcat(max_work_load, [9 for i in 1: num_semester - length(max_work_load)])\n",
    "        end\n",
    "        \n",
    "        println(\"max_work_load after changing number of semester: \", max_work_load)\n",
    "        \n",
    "    elseif(response == \"5\")\n",
    "        desired_course_ids = get_course_ids(desired_courses)\n",
    "        transferred_course_ids = get_course_ids(transferred_courses)\n",
    "        loopV = false\n",
    "        \n",
    "        # convert list of String into the correct format\n",
    "    else\n",
    "        print(\"invalid response \\n\")\n",
    "    end\n",
    "    \n",
    "end\n",
    "\n",
    "x = find_optimal_schedule(max_credit = max_work_load, cs_major=true, \n",
    "    desired_courses = desired_course_ids, \n",
    "    transferred_courses = transferred_course_ids, num_semester = num_semester)\n",
    "print_result(x);"
   ]
  },
  {
   "cell_type": "code",
   "execution_count": 30,
   "metadata": {},
   "outputs": [
    {
     "data": {
      "text/plain": [
       "5-element Array{Int64,1}:\n",
       " 9\n",
       " 9\n",
       " 9\n",
       " 9\n",
       " 9"
      ]
     },
     "execution_count": 30,
     "metadata": {},
     "output_type": "execute_result"
    }
   ],
   "source": [
    "test = [9 for i=1:5]\n",
    "test2 = vcat(test, [7 for i in 1: 1-1])\n",
    "\n"
   ]
  },
  {
   "cell_type": "code",
   "execution_count": 19,
   "metadata": {},
   "outputs": [
    {
     "ename": "LoadError",
     "evalue": "syntax: extra token \"1\" after end of expression",
     "output_type": "error",
     "traceback": [
      "syntax: extra token \"1\" after end of expression",
      "",
      "Stacktrace:",
      " [1] top-level scope at In[19]:1",
      " [2] include_string(::Function, ::Module, ::String, ::String) at ./loading.jl:1091"
     ]
    }
   ],
   "source": [
    "Semester 1: take \"COMP SCI/MATH 240: Introduction to Discrete Mathematics\"\n",
    "Semester 1: take \"COMP SCI 200: Programming I\"\n",
    "Semester 1: take \"COMP SCI/E C E 252: Introduction to Computer Engineering\"\n",
    "Semester 2: take \"COMP SCI 300: Programming II\"\n",
    "Semester 3: take \"COMP SCI/E C E 354: Machine Organization and Programming\"\n",
    "Semester 3: take \"COMP SCI 534: Computational Photography\"\n",
    "Semester 3: take \"COMP SCI 400: Programming III\"\n",
    "Semester 3: take \"COMP SCI 407: Foundations of Mobile Systems and Applications\"\n",
    "Semester 4: take \"COMP SCI/E C E 506: Software Engineering\"\n",
    "Semester 4: take \"COMP SCI 520: Introduction to Theory of Computing\"\n",
    "Number of courses taken: 10 with 29 credits"
   ]
  },
  {
   "cell_type": "code",
   "execution_count": 20,
   "metadata": {},
   "outputs": [
    {
     "data": {
      "text/plain": [
       "9"
      ]
     },
     "execution_count": 20,
     "metadata": {},
     "output_type": "execute_result"
    }
   ],
   "source": [
    "tester = [1, 2, 3, 4, 5, 6, 7, 8, 9]\n",
    "\n",
    "tester[9]"
   ]
  },
  {
   "cell_type": "markdown",
   "metadata": {},
   "source": [
    "## 5. Conclusion ##\n",
    "\n",
    "Summarize your findings and your results, and talk about at least one possible future direction; something that might be interesting to pursue as a follow-up to your project.\n",
    "\n",
    "Future work: some courses is only offered in Spring or Fall, extend to more major <span style=\"color:red\">TODO: update this</span>"
   ]
  },
  {
   "cell_type": "markdown",
   "metadata": {},
   "source": [
    "## 6. Appendix"
   ]
  },
  {
   "cell_type": "markdown",
   "metadata": {},
   "source": [
    "### 6.A Course Data Example"
   ]
  },
  {
   "cell_type": "code",
   "execution_count": 21,
   "metadata": {
    "cell_id": "00012-1eb62620-f0f6-4fa1-90b6-e811c4483f02",
    "deepnote_cell_type": "code",
    "scrolled": false,
    "tags": []
   },
   "outputs": [
    {
     "name": "stdout",
     "output_type": "stream",
     "text": [
      "Dict{String,Any} with 44 entries:\n",
      "  \"honors\" => nothing\n",
      "  \"allCrossListedSubjects\" => Any[Dict{String,Any}(\"departmentURI\"=>\"http://www.cs.wisc.edu/\",\"footnotes\"=>Any[\"Courses taught and managed by the Computer Sciences department often have enrollment restrictions that give students in UW-Madison Computer Sciences programs priority access during initial enrollment periods.\\n\\nEvening exams are likely for most of our undergraduate courses.\"],\"formalDescription\"=>\"COMPUTER SCIENCES\",\"undergraduateCatalogURI\"=>\"http://guide.wisc.edu/undergraduate/letters-science/computer-sciences/\",\"termCode\"=>\"1214\",\"departmentOwnerAcademicOrgCode\"=>\"L0780\",\"description\"=>\"COMPUTER SCIENCES\",\"graduateCatalogURI\"=>\"http://guide.wisc.edu/graduate/computer-sciences/\",\"uddsFundingSource\"=>\"A4820\",\"shortDescription\"=>\"COMP SCI\",\"subjectCode\"=>\"266\",\"schoolCollege\"=>Dict{String,Any}(\"schoolCollegeURI\"=>\"http://www.ls.wisc.edu/\",\"shortDescription\"=>\"Letters and Science\",\"formalDescription\"=>\"Letters and Science, College of\",\"academicOrgCode\"=>\"L\",\"uddsCode\"=>nothing,\"academicGroupCode\"=>\"L&S\")), Dict{String,Any}(\"departmentURI\"=>\"http://www.engr.wisc.edu/department/electrical-computer-engineering/\",\"footnotes\"=>Any[\"Due to capacity limits the department cannot guarantee enrollment in any ECE courses even for ECE majors. When necessary, enrollment priority for students registering on schedule will be given to: 1) EE & CMPE majors, ECE graduate students & AMEP program students; 2) students admitted to another engineering major or PhD minor.  Evening exams may be scheduled for all courses.\\n\\nFor enrollment questions, please email: ece-enrollment@engr.wisc.edu.\"],\"formalDescription\"=>\"ELECTRICAL AND COMPUTER ENGINEERING\",\"undergraduateCatalogURI\"=>\"http://guide.wisc.edu/undergraduate/engineering/electrical-computer-engineering/\",\"termCode\"=>\"1214\",\"departmentOwnerAcademicOrgCode\"=>\"E0480\",\"description\"=>\"ELECTRICAL AND COMPUTER ENGR\",\"graduateCatalogURI\"=>\"http://guide.wisc.edu/graduate/electrical-computer-engineering/\",\"uddsFundingSource\"=>\"A1925\",\"shortDescription\"=>\"E C E\",\"subjectCode\"=>\"320\",\"schoolCollege\"=>Dict{String,Any}(\"schoolCollegeURI\"=>\"http://www.engr.wisc.edu/\",\"shortDescription\"=>\"Engineering\",\"formalDescription\"=>\"Engineering, College of\",\"academicOrgCode\"=>\"E\",\"uddsCode\"=>nothing,\"academicGroupCode\"=>\"EGR\")), Dict{String,Any}(\"departmentURI\"=>\"http://www.engr.wisc.edu/department/industrial-systems-engineering/\",\"footnotes\"=>Any[\"Jeff Linderoth , Chair, 3270 Mech Engr, (608) 262-9660.\\n\\nEnrollment in ISyE classes:  \\nPlease read the course notes for enrollment details and restrictions. Most ISyE classes are restricted to ISyE undergrad or grad students until January 11th at noon.  \\n\\nNon-ISyE students: After this date, for authorization or enrollment problems contact enrollment@ie.wisc.edu\\n\\nISyE students: for pre-requisites or enrollment problems contact enrollment@ie.wisc.edu\\n\\nOnline demo on how to join the waitlist:   http://registrar.wisc.edu/isis_helpdocs/enrollment_demos/V90WaitList/V90WaitList.htm\"],\"formalDescription\"=>\"INDUSTRIAL AND SYSTEMS ENGINEERING\",\"undergraduateCatalogURI\"=>\"http://guide.wisc.edu/undergraduate/engineering/industrial-systems-engineering/\",\"termCode\"=>\"1214\",\"departmentOwnerAcademicOrgCode\"=>\"E0525\",\"description\"=>\"INDUSTRIAL & SYSTEMS ENGR\",\"graduateCatalogURI\"=>\"http://guide.wisc.edu/graduate/industrial-systems-engineering/\",\"uddsFundingSource\"=>\"A1950\",\"shortDescription\"=>\"I SY E\",\"subjectCode\"=>\"490\",\"schoolCollege\"=>Dict{String,Any}(\"schoolCollegeURI\"=>\"http://www.engr.wisc.edu/\",\"shortDescription\"=>\"Engineering\",\"formalDescription\"=>\"Engineering, College of\",\"academicOrgCode\"=>\"E\",\"uddsCode\"=>nothing,\"academicGroupCode\"=>\"EGR\"))]\n",
      "  \"breadths\" => Any[Dict{String,Any}(\"code\"=>\"N\",\"description\"=>\"Natural Science\")]\n",
      "  \"matched_queries\" => nothing\n",
      "  \"termCode\" => \"1214\"\n",
      "  \"levels\" => Any[Dict{String,Any}(\"code\"=>\"I\",\"description\"=>\"Intermediate\")]\n",
      "  \"subjectAggregate\" => \"INDUSTRIAL & SYSTEMS ENGR 490\"\n",
      "  \"courseId\" => \"024408\"\n",
      "  \"academicGroupCode\" => nothing\n",
      "  \"gradingBasis\" => Dict{String,Any}(\"code\"=>\"OPT\",\"description\"=>\"Student Option\")\n",
      "  \"advisoryPrerequisites\" => nothing\n",
      "  \"ethnicStudies\" => nothing\n",
      "  \"lettersAndScienceCredits\" => Dict{String,Any}(\"code\"=>\"C\",\"description\"=>\"Counts as LAS credit (L&S)\")\n",
      "  \"approvedForTopics\" => false\n",
      "  \"courseDesignationRaw\" => \"I SY E 524\"\n",
      "  \"openToFirstYear\" => false\n",
      "  \"gradCourseWork\" => nothing\n",
      "  \"catalogPrintFlag\" => true\n",
      "  \"sustainability\" => nothing\n",
      "  \"instructorProvidedContent\" => nothing\n",
      "  \"courseRequirements\" => Dict{String,Any}(\"015976=\"=>Any[51010, 33566])\n",
      "  \"subject\" => Dict{String,Any}(\"departmentURI\"=>\"http://www.engr.wisc.edu/department/industrial-systems-engineering/\",\"footnotes\"=>Any[\"Jeff Linderoth , Chair, 3270 Mech Engr, (608) 262-9660.\\n\\nEnrollment in ISyE classes:  \\nPlease read the course notes for enrollment details and restrictions. Most ISyE classes are restricted to ISyE undergrad or grad students until January 11th at noon.  \\n\\nNon-ISyE students: After this date, for authorization or enrollment problems contact enrollment@ie.wisc.edu\\n\\nISyE students: for pre-requisites or enrollment problems contact enrollment@ie.wisc.edu\\n\\nOnline demo on how to join the waitlist:   http://registrar.wisc.edu/isis_helpdocs/enrollment_demos/V90WaitList/V90WaitList.htm\"],\"formalDescription\"=>\"INDUSTRIAL AND SYSTEMS ENGINEERING\",\"undergraduateCatalogURI\"=>\"http://guide.wisc.edu/undergraduate/engineering/industrial-systems-engineering/\",\"termCode\"=>\"1214\",\"departmentOwnerAcademicOrgCode\"=>\"E0525\",\"description\"=>\"INDUSTRIAL & SYSTEMS ENGR\",\"graduateCatalogURI\"=>\"http://guide.wisc.edu/graduate/industrial-systems-engineering/\",\"uddsFundingSource\"=>\"A1950\",\"shortDescription\"=>\"I SY E\",\"subjectCode\"=>\"490\",\"schoolCollege\"=>Dict{String,Any}(\"schoolCollegeURI\"=>\"http://www.engr.wisc.edu/\",\"shortDescription\"=>\"Engineering\",\"formalDescription\"=>\"Engineering, College of\",\"academicOrgCode\"=>\"E\",\"uddsCode\"=>nothing,\"academicGroupCode\"=>\"EGR\"))\n",
      "  \"repeatable\" => \"N\"\n",
      "  \"fullCourseDesignationRaw\" => \"INDUSTRIAL AND SYSTEMS ENGINEERING 524\"\n",
      "  \"typicallyOffered\" => \"Fall, Spring\"\n",
      "  \"foreignLanguage\" => nothing\n",
      "  \"enrollmentPrerequisites\" => \"(COMP SCI 200, 220, 300, 301, 302, or 310) and (MATH 320, 340, 341, or 375) or graduate/professional standing\"\n",
      "  \"titleSuggest\" => Dict{String,Any}(\"payload\"=>Dict{String,Any}(\"courseId\"=>\"024408\"),\"input\"=>Any[\"Introduction to Optimization\"])\n",
      "  \"minimumCredits\" => 3\n",
      "  \"title\" => \"Introduction to Optimization\"\n",
      "  \"lastUpdated\" => 1618558603523\n",
      "  \"workplaceExperience\" => nothing\n",
      "  \"courseDesignation\" => \"I SY E 524\"\n",
      "  \"generalEd\" => nothing\n",
      "  \"topics\" => Any[]\n",
      "  \"description\" => \"Introduction to mathematical optimization from a modeling and solution perspective. Formulation of applications as discrete and continuous optimization problems and equilibrium models. Survey and appropriate usage of basic algorithms, data and software tools, including modeling languages and subroutine libraries. Enroll Info: None\"\n",
      "  \"lastTaught\" => \"1214\"\n",
      "  \"creditRange\" => \"3\"\n",
      "  \"catalogSort\" => \"00524\"\n",
      "  \"currentlyTaught\" => true\n",
      "  \"firstTaught\" => \"1164\"\n",
      "  \"catalogNumber\" => \"524\"\n",
      "  \"maximumCredits\" => 3\n",
      "  \"fullCourseDesignation\" => \"INDUSTRIAL AND SYSTEMS ENGINEERING 524\""
     ]
    }
   ],
   "source": [
    "show(IOContext(stdout, :limit => false), \"text/plain\", cls_dict[get_cs_cls_id(524)]);"
   ]
  },
  {
   "cell_type": "markdown",
   "metadata": {},
   "source": [
    "### 6.B Enrollment Prerequisites "
   ]
  },
  {
   "cell_type": "code",
   "execution_count": 22,
   "metadata": {
    "scrolled": false
   },
   "outputs": [
    {
     "name": "stdout",
     "output_type": "stream",
     "text": [
      "\u001b[0m\u001b[1mCOMP SCI/I SY E/MATH 425\u001b[22m: (MATH 320, 340, 341, or 375) or graduate/professional standing or member of the Pre-Masters Mathematics (Visiting International) Program\n",
      "\u001b[0m\u001b[1mCOMP SCI/MATH 514\u001b[22m: (MATH 320, 340, 341, or 375) and (MATH 322, 376, 421, or 521) and (COMP SCI 200, 220, 300, 310, or 301 prior to Spring 2020) or graduate/professional standing or member of the Pre-Masters Mathematics (Visiting International) Program\n",
      "\u001b[0m\u001b[1mCOMP SCI/I SY E/MATH/STAT 525\u001b[22m: MATH 320, 340, 341, 375, or 443 or graduate/professional standing or member of the Pre-Masters Mathematics (Visiting International) Program\n",
      "\u001b[0m\u001b[1mCOMP SCI/I SY E/MATH 728\u001b[22m: Graduate/professional standing\n",
      "\u001b[0m\u001b[1mCOMP SCI/I SY E/MATH/STAT 726\u001b[22m: Graduate/professional standing\n",
      "\u001b[0m\u001b[1mMATH 112\u001b[22m: MATH 96 or placement into MATH 112. MATH 118 does not fulfill the requisite\n",
      "\u001b[0m\u001b[1mMATH 113\u001b[22m: MATH 112 or placement into MATH 113\n",
      "\u001b[0m\u001b[1mMATH 114\u001b[22m: MATH 96 or placement into MATH 114. MATH 118 does not fulfill the requisite\n",
      "\u001b[0m\u001b[1mMATH 130\u001b[22m: MATH 96 or placement into MATH 130 and classified as Elementary Education, Pre-Elementary Education or Pre-Special Education. MATH 118 does not fulfill the requisite\n",
      "\u001b[0m\u001b[1mMATH 131\u001b[22m: Grade of C in MATH 130 and classified as Elementary Education, Pre-Elementary Education, or Pre-Special Education\n",
      "\u001b[0m\u001b[1mMATH 132\u001b[22m: MATH 130 and 131 with grades of C or better. Open only to students classified as Elementary Education, Pre-Elementary Education, or Pre-Special Education\n",
      "\u001b[0m\u001b[1mMATH 141\u001b[22m: MATH 96 or placement into MATH 141. MATH 118 does not fulfill the requisite\n",
      "\u001b[0m\u001b[1mMATH 211\u001b[22m: MATH 112 or 114 or placement into MATH 211\n",
      "\u001b[0m\u001b[1mMATH 213\u001b[22m: MATH 211, 217, 221, or 275\n",
      "\u001b[0m\u001b[1mMATH 221\u001b[22m: MATH 114 or (MATH 112 and 113) or placement into MATH 221. MATH 211 or MATH 213 does not fulfill the requisite.\n",
      "\u001b[0m\u001b[1mMATH 222\u001b[22m: MATH 217, 221, or 275. MATH 211 or 213 does not fulfill the requisite.\n",
      "\u001b[0m\u001b[1mMATH 234\u001b[22m: MATH 222 or 276\n",
      "\u001b[0m\u001b[1mCOMP SCI/MATH 240\u001b[22m: MATH 217, 221, or 275\n",
      "\u001b[0m\u001b[1mMATH 217\u001b[22m: MATH 171\n",
      "\u001b[0m\u001b[1mMATH 298\u001b[22m: Consent of instructor\n",
      "\u001b[0m\u001b[1mMATH 319\u001b[22m: MATH 222 or 276 or graduate/professional standing\n",
      "\u001b[0m\u001b[1mMATH 320\u001b[22m: MATH 222 or 276 or graduate/professional standing\n",
      "\u001b[0m\u001b[1mMATH 321\u001b[22m: MATH 376, (MATH 234 and 319), (MATH 234 and 320), (MATH 234 and 340), (MATH 234 and 341), (MATH 234 and 375), or graduate/professional standing\n",
      "\u001b[0m\u001b[1mMATH 322\u001b[22m: MATH 321 or 376 or graduate/professional standing\n",
      "\u001b[0m\u001b[1mMATH 340\u001b[22m: MATH 222. Not open to students with credit for MATH 341 or 375\n",
      "\u001b[0m\u001b[1mMATH/STAT 431\u001b[22m: MATH 234 or 376 or graduate/professional standing or member of the Pre-Masters Mathematics (Visiting International) Program\n",
      "\u001b[0m\u001b[1mMATH 441\u001b[22m: (MATH 320, 340, 341, or 375) or graduate/professional standing or member of the Pre-Masters Mathematics (Visiting International) Program\n",
      "\u001b[0m\u001b[1mMATH 443\u001b[22m: (MATH 320, 340, 341, or 375) or graduate/professional standing or member of the Pre-Masters Mathematics (Visiting International) Program\n",
      "\u001b[0m\u001b[1mMATH 461\u001b[22m: MATH 234 or (MATH 222 and MATH/COMP SCI 240) or MATH 375 or graduate/professional standing or member of the Pre-Masters Mathematics (Visiting International)  Program\n",
      "\u001b[0m\u001b[1mHIST SCI/MATH 473\u001b[22m: Consent of instructor\n",
      "\u001b[0m\u001b[1mCOMP SCI/MATH/STAT 475\u001b[22m: (MATH 320, 340, 341, or 375) or graduate/professional standing or member of the Pre-Masters Mathematics (Visiting International) Program\n",
      "\u001b[0m\u001b[1mCOMP SCI/MATH 513\u001b[22m: (MATH 340, 341, or 375) and (COMP SCI 200, 300, 301, 302 or 310) or graduate/professional standing or member of the Pre-Masters Mathematics (Visiting International) program\n",
      "\u001b[0m\u001b[1mMATH 521\u001b[22m: (MATH 234 and 467) or (MATH 322, 341, 376, 421) or graduate/professional standing or member of the Pre-Masters Mathematics (Visiting International) Program\n",
      "\u001b[0m\u001b[1mMATH 522\u001b[22m: MATH 521 and (MATH 320, 340, 341, or 375) or graduate/professional standing or member of the Pre-Masters Mathematics (Visiting International) Program\n",
      "\u001b[0m\u001b[1mMATH 541\u001b[22m: (MATH 234 or 375), (MATH 320, 340, 341, or 375), and (MATH 341, 375, 421, 467, or 521), or graduate/professional standing or member of the Pre-Masters Mathematics (Visiting International) Program\n",
      "\u001b[0m\u001b[1mMATH 542\u001b[22m: MATH 541 or graduate/professional standing or member of the Pre-Masters Mathematics (Visiting International) Program\n",
      "\u001b[0m\u001b[1mMATH 551\u001b[22m: (MATH 234 or 375), (MATH 320, 340, 341, or 375), and (MATH 341, 375, 421, 467, or 521), or graduate/professional standing or member of the Pre-Masters Mathematics (Visiting International) Program\n",
      "\u001b[0m\u001b[1mMATH 552\u001b[22m: (MATH 551 and 541) or graduate/professional standing or member of the Pre-Masters Mathematics (Visiting International) Program\n",
      "\u001b[0m\u001b[1mMATH 561\u001b[22m: (MATH 320, 340, 341, or 375) and (MATH 322, 376, 421, or 521) or graduate/professional standing or member of the Pre-Masters Mathematics (Visiting International) Program\n",
      "\u001b[0m\u001b[1mMATH 567\u001b[22m: MATH 541 or graduate/professional standing or member of the Pre-Masters Mathematics (Visiting International) Program\n",
      "\u001b[0m\u001b[1mMATH 629\u001b[22m: MATH 522 or graduate/professional standing or member of the Pre-Masters Mathematics (Visiting International) Program\n",
      "\u001b[0m\u001b[1mOTM/I SY E/MATH/STAT 632\u001b[22m: (MATH/STAT 431, 309, STAT 311 or MATH 531) and (MATH 320, 340, 341, 375, 421 or 531) or graduate/professional standing or member of the Pre-Masters Mathematics (Visiting International) Program\n",
      "\u001b[0m\u001b[1mMATH 698\u001b[22m: Consent of instructor\n",
      "\u001b[0m\u001b[1mMATH 699\u001b[22m: Consent of instructor\n",
      "\u001b[0m\u001b[1mMATH 704\u001b[22m: Graduate/professional standing or member of the Pre-Masters Mathematics (Visiting International) Program\n",
      "\u001b[0m\u001b[1mMATH 705\u001b[22m: Graduate/professional standing or member of the Pre-Masters Mathematics (Visiting International) Program\n",
      "\u001b[0m\u001b[1mMATH 716\u001b[22m: Graduate/professional standing or member of the Pre-Masters Mathematics (Visiting International) Program\n",
      "\u001b[0m\u001b[1mMATH 722\u001b[22m: Graduate/professional standing or member of the Pre-Masters Mathematics (Visiting International) Program\n",
      "\u001b[0m\u001b[1mMATH 725\u001b[22m: Graduate/professional standing or member of the Pre-Masters Mathematics (Visiting International) Program\n",
      "\u001b[0m\u001b[1mMATH 742\u001b[22m: Graduate/professional standing or member of the Pre-Masters Mathematics (Visiting International) Program\n",
      "\u001b[0m\u001b[1mMATH 752\u001b[22m: Graduate/professional standing or member of the Pre-Masters Mathematics (Visiting International) Program\n",
      "\u001b[0m\u001b[1mMATH 761\u001b[22m: Graduate/professional standing or member of the Pre-Masters Mathematics (Visiting International) Program\n",
      "\u001b[0m\u001b[1mMATH 764\u001b[22m: Graduate/professional standing or member of the Pre-Masters Mathematics (Visiting International) Program\n",
      "\u001b[0m\u001b[1mMATH 773\u001b[22m: Graduate/professional standing or member of the Pre-Masters Mathematics (Visiting International) Program\n",
      "\u001b[0m\u001b[1mMATH 776\u001b[22m: Graduate/professional standing or member of the Pre-Masters Mathematics (Visiting International) Program\n",
      "\u001b[0m\u001b[1mMATH 801\u001b[22m: Graduate/professional standing or member of the Pre-Masters Mathematics (Visiting International) Program\n",
      "\u001b[0m\u001b[1mMATH 807\u001b[22m: Graduate/professional standing or member of the Pre-Masters Mathematics (Visiting International) Program\n",
      "\u001b[0m\u001b[1mMATH 820\u001b[22m: Graduate/professional standing or member of the Pre-Masters Mathematics (Visiting International) Program\n",
      "\u001b[0m\u001b[1mMATH 825\u001b[22m: Graduate/professional standing or member of the Pre-Masters Mathematics (Visiting International) Program\n",
      "\u001b[0m\u001b[1mMATH/STAT 734\u001b[22m: Graduate/professional standing or member of the Pre-Masters Mathematics (Visiting International) Program\n",
      "\u001b[0m\u001b[1mMATH/STAT 833\u001b[22m: Graduate/professional standing or member of the Pre-Masters Mathematics (Visiting International) Program\n",
      "\u001b[0m\u001b[1mMATH 853\u001b[22m: Graduate/professional standing or member of the Pre-Masters Mathematics (Visiting International) Program\n",
      "\u001b[0m\u001b[1mMATH 873\u001b[22m: Graduate/professional standing or member of the Pre-Masters Mathematics (Visiting International) Program\n",
      "\u001b[0m\u001b[1mMATH 921\u001b[22m: Graduate/professional standing or member of the Pre-Masters Mathematics (Visiting International) Program\n",
      "\u001b[0m\u001b[1mMATH 941\u001b[22m: Graduate/professional standing or member of the Pre-Masters Mathematics (Visiting International) Program\n",
      "\u001b[0m\u001b[1mMATH 951\u001b[22m: Graduate/professional standing or member of the Pre-Masters Mathematics (Visiting International) Program\n",
      "\u001b[0m\u001b[1mMATH 967\u001b[22m: Graduate/professional standing or member of the Pre-Masters Mathematics (Visiting International) Program\n",
      "\u001b[0m\u001b[1mMATH 990\u001b[22m: Consent of instructor\n",
      "\u001b[0m\u001b[1mMATH/STAT 309\u001b[22m: MATH 234 or concurrent enrollment; not open to students with credit for MATH/STAT 431 or STAT 311\n",
      "\u001b[0m\u001b[1mMATH/STAT 310\u001b[22m: (MATH/STAT 309, STAT 311, or MATH/STAT 431) and (STAT 224, STAT 301, STAT 302, STAT 324, STAT 371, or ECON 310); or graduate/professional standing\n",
      "\u001b[0m\u001b[1mMATH/STAT 710\u001b[22m: MATH/STAT 709\n",
      "\u001b[0m\u001b[1mCOMP SCI/E C E/MATH 435\u001b[22m: (MATH 320, 340, 341, or 375) or graduate/professional standing or member of the Pre-Masters Mathematics (Visiting International) Program\n",
      "\u001b[0m\u001b[1mMATH 376\u001b[22m: MATH 375\n",
      "\u001b[0m\u001b[1mMATH 341\u001b[22m: MATH 234\n",
      "\u001b[0m\u001b[1mMATH 421\u001b[22m: MATH 234 or graduate/professional standing or member of the Pre-Masters Mathematics (Visiting International) Program\n",
      "\u001b[0m\u001b[1mMATH 747\u001b[22m: Graduate/professional standing or member of the Pre-Masters Mathematics (Visiting International) Program\n",
      "\u001b[0m\u001b[1mMATH 519\u001b[22m: (MATH 320, 340, 341, or 375) and (MATH 322, 376, 421, or 521) or graduate/professional standing or member of the Pre-Masters Mathematics (Visiting International) Program\n",
      "\u001b[0m\u001b[1mMATH 207\u001b[22m: None\n",
      "\u001b[0m\u001b[1mMATH 407\u001b[22m: None\n",
      "\u001b[0m\u001b[1mMATH 607\u001b[22m: None\n",
      "\u001b[0m\u001b[1mCOMP SCI/MATH 715\u001b[22m: Graduate/professional standing or member of the Pre-Masters Mathematics (Visiting International) Program\n",
      "\u001b[0m\u001b[1mMATH 135\u001b[22m: Grade of C in MATH 130, and (MATH 112, 114, or 171), and classified in Elementary Education, Pre-Elementary Education, or Pre-Special Education\n",
      "\u001b[0m\u001b[1mMATH 228\u001b[22m: Member of Wisconsin Emerging Scholars--MATH Program\n",
      "\u001b[0m\u001b[1mMATH 619\u001b[22m: (MATH 322, 421, or 521) and (MATH 319, 320, 376, 415, or 519) or graduate/professional standing or member of the Pre-Masters Mathematics (Visiting International) Program\n"
     ]
    },
    {
     "name": "stdout",
     "output_type": "stream",
     "text": [
      "\u001b[0m\u001b[1mMATH 531\u001b[22m: MATH 376, 421, or 521 or graduate/professional standing or member of the Pre-Masters Mathematics (Visiting International) Program\n",
      "\u001b[0m\u001b[1mCURRIC/MATH 471\u001b[22m: (MATH 341, 375, or 421) and MATH 461\n",
      "\u001b[0m\u001b[1mMATH 848\u001b[22m: Graduate/professional standing or member of the Pre-Masters Mathematics (Visiting International) Program\n",
      "\u001b[0m\u001b[1mMATH 849\u001b[22m: Graduate/professional standing or member of the Pre-Masters Mathematics (Visiting International) Program\n",
      "\u001b[0m\u001b[1mMATH 96\u001b[22m: Placement into MATH 96. Department consent required to drop/swap from course\n",
      "\u001b[0m\u001b[1mMATH 540\u001b[22m: (MATH 234 or 375), (MATH 320, 340, 341, or 375), and (MATH 341, 375, 421, 467, or 521), or graduate/professional standing or member of the Pre-Masters Mathematics (Visiting International) Program\n"
     ]
    }
   ],
   "source": [
    "for (k, v) in sort(cls_dict)\n",
    "    cls_name = get_cls_name(k)\n",
    "    if occursin(\"MATH\", cls_name)\n",
    "        printstyled(stdout, cls_name, bold=true)\n",
    "        println(\": \", v[\"enrollmentPrerequisites\"])\n",
    "    end\n",
    "end"
   ]
  },
  {
   "cell_type": "code",
   "execution_count": null,
   "metadata": {},
   "outputs": [],
   "source": []
  }
 ],
 "metadata": {
  "deepnote": {},
  "deepnote_execution_queue": [],
  "deepnote_notebook_id": "0ab71297-e41d-4397-88e4-c87a9b9c4413",
  "kernelspec": {
   "display_name": "Julia 1.5.3",
   "language": "julia",
   "name": "julia-1.5"
  },
  "language_info": {
   "file_extension": ".jl",
   "mimetype": "application/julia",
   "name": "julia",
   "version": "1.5.3"
  }
 },
 "nbformat": 4,
 "nbformat_minor": 1
}
